{
  "nbformat": 4,
  "nbformat_minor": 0,
  "metadata": {
    "colab": {
      "provenance": [],
      "include_colab_link": true
    },
    "kernelspec": {
      "name": "python3",
      "display_name": "Python 3"
    }
  },
  "cells": [
    {
      "cell_type": "markdown",
      "metadata": {
        "id": "view-in-github",
        "colab_type": "text"
      },
      "source": [
        "<a href=\"https://colab.research.google.com/github/Shafqat-Shahriar/Python_Core/blob/main/Python_tutorial.ipynb\" target=\"_parent\"><img src=\"https://colab.research.google.com/assets/colab-badge.svg\" alt=\"Open In Colab\"/></a>"
      ]
    },
    {
      "cell_type": "code",
      "metadata": {
        "id": "Xq_wp2B3D49J",
        "colab": {
          "base_uri": "https://localhost:8080/"
        },
        "outputId": "1ec56790-dc7f-46b2-f8b8-527615e85b6a"
      },
      "source": [
        "#google colab setup ->\n",
        "#https://www.youtube.com/watch?v=RTOOo39iaSU&fbclid=IwAR3d4ONzNXsfRxGVOF0VQhiwhwnk4pfcKRTTHt5GXmwKJNSO-Xr180HZ7Pk\n",
        "# python3 and other libraries already installed\n",
        "\n",
        "#You can follow w3schools for cool python tutorials\n",
        "\n",
        "# Taking user input in python\n",
        "num = int(input (\"Enter number :\"))\n",
        "num = num + 5\n",
        "print(num)"
      ],
      "execution_count": null,
      "outputs": [
        {
          "output_type": "stream",
          "name": "stdout",
          "text": [
            "Enter number :15\n",
            "20\n"
          ]
        }
      ]
    },
    {
      "cell_type": "code",
      "metadata": {
        "id": "QHTfh4araPj-",
        "colab": {
          "base_uri": "https://localhost:8080/"
        },
        "outputId": "5feaa4a4-3c98-4f9f-91f5-0fb6f6dc1ba4"
      },
      "source": [
        "num = 'Sakib'\n",
        "num1 = 5\n",
        "print(num)\n",
        "print(num1)"
      ],
      "execution_count": null,
      "outputs": [
        {
          "output_type": "stream",
          "name": "stdout",
          "text": [
            "Sakib\n",
            "5\n"
          ]
        }
      ]
    },
    {
      "cell_type": "code",
      "metadata": {
        "id": "metnzGOhWJGC",
        "colab": {
          "base_uri": "https://localhost:8080/"
        },
        "outputId": "0fb71352-f588-4af6-c38f-9da584f737d6"
      },
      "source": [
        "# python console output\n",
        "arr = [1,2,5] #list\n",
        "print(arr)\n",
        "print(f'hello, my input number is: {num}, array is: {arr}')\n",
        "#print(num,num)"
      ],
      "execution_count": null,
      "outputs": [
        {
          "output_type": "stream",
          "name": "stdout",
          "text": [
            "[1, 2, 5]\n",
            "hello, my input number is: 20, array is: [1, 2, 5]\n"
          ]
        }
      ]
    },
    {
      "cell_type": "code",
      "metadata": {
        "id": "ZwlxuQRxTGlr",
        "colab": {
          "base_uri": "https://localhost:8080/"
        },
        "outputId": "30403d93-dd64-417e-fa56-9788508b052d"
      },
      "source": [
        "#python if else\n",
        "a = 200\n",
        "b = 205\n",
        "if b > a:\n",
        "  print(\"b is greater than a\")\n",
        "  print(\"done\")\n",
        "elif a == b:\n",
        "  print(\"a and b are equal\")\n",
        "else:\n",
        "  print(\"a is greater than b\")"
      ],
      "execution_count": null,
      "outputs": [
        {
          "output_type": "stream",
          "name": "stdout",
          "text": [
            "b is greater than a\n",
            "done\n"
          ]
        }
      ]
    },
    {
      "cell_type": "code",
      "metadata": {
        "id": "VaQURbjpex7t",
        "colab": {
          "base_uri": "https://localhost:8080/"
        },
        "outputId": "3f979b88-793f-4623-8ed2-59f027b52073"
      },
      "source": [
        "#python list\n",
        "thislist = [\"apple\", \"banana\", \"cherry\", [55, 56]]\n",
        "print(thislist)\n",
        "print(thislist[1])\n",
        "print(thislist[3][1])"
      ],
      "execution_count": null,
      "outputs": [
        {
          "output_type": "stream",
          "name": "stdout",
          "text": [
            "['apple', 'banana', 'cherry', [55, 56]]\n",
            "banana\n",
            "56\n"
          ]
        }
      ]
    },
    {
      "cell_type": "code",
      "metadata": {
        "id": "5_5VK6GhbbLS",
        "colab": {
          "base_uri": "https://localhost:8080/"
        },
        "outputId": "49d68c5a-8412-4d32-e5e6-6179740f945e"
      },
      "source": [
        "thislist[1] = \"blackcurrant\"\n",
        "print(thislist)\n",
        "\n",
        "print(len(thislist))"
      ],
      "execution_count": null,
      "outputs": [
        {
          "output_type": "stream",
          "name": "stdout",
          "text": [
            "['apple', 'blackcurrant', 'cherry', [55, 56]]\n",
            "4\n"
          ]
        }
      ]
    },
    {
      "cell_type": "code",
      "metadata": {
        "id": "phSPXemlbhsY",
        "colab": {
          "base_uri": "https://localhost:8080/"
        },
        "outputId": "a9e50f72-8a81-4322-9e75-729149eb368d"
      },
      "source": [
        "thislist.append(\"orange\")\n",
        "print(thislist)"
      ],
      "execution_count": null,
      "outputs": [
        {
          "output_type": "stream",
          "name": "stdout",
          "text": [
            "['apple', 'blackcurrant', 'cherry', [55, 56], 'orange']\n"
          ]
        }
      ]
    },
    {
      "cell_type": "code",
      "metadata": {
        "id": "HcGNw-iXbnBq",
        "colab": {
          "base_uri": "https://localhost:8080/"
        },
        "outputId": "3d69e25b-b8e7-44e5-eada-f0e5215e3964"
      },
      "source": [
        "thislist.insert(1, \"orange\")\n",
        "print(thislist)"
      ],
      "execution_count": null,
      "outputs": [
        {
          "output_type": "stream",
          "name": "stdout",
          "text": [
            "['apple', 'orange', 'blackcurrant', 'cherry', [55, 56], 'orange']\n"
          ]
        }
      ]
    },
    {
      "cell_type": "code",
      "source": [
        "thislist.insert(3, \"blueberry\")\n",
        "print(thislist)"
      ],
      "metadata": {
        "colab": {
          "base_uri": "https://localhost:8080/"
        },
        "id": "fg-CScHAkDeD",
        "outputId": "336ad936-b598-4268-be98-e0817964aa2c"
      },
      "execution_count": null,
      "outputs": [
        {
          "output_type": "stream",
          "name": "stdout",
          "text": [
            "['apple', 'orange', 'blackcurrant', 'blueberry', 'cherry', [55, 56], 'orange']\n"
          ]
        }
      ]
    },
    {
      "cell_type": "code",
      "metadata": {
        "id": "uzgQl56XcJAJ",
        "colab": {
          "base_uri": "https://localhost:8080/"
        },
        "outputId": "cf226774-df01-4638-cc87-2134991866f8"
      },
      "source": [
        "fruit1 = 'apple'\n",
        "if fruit1 in thislist:\n",
        "  print(f'Yes, {fruit1} is in the fruits list')\n",
        "else:\n",
        "  print(f'No, {fruit1} is not in the fruits list')"
      ],
      "execution_count": null,
      "outputs": [
        {
          "output_type": "stream",
          "name": "stdout",
          "text": [
            "Yes, apple is in the fruits list\n"
          ]
        }
      ]
    },
    {
      "cell_type": "code",
      "metadata": {
        "id": "XzhGAhHTcQfJ",
        "colab": {
          "base_uri": "https://localhost:8080/"
        },
        "outputId": "83983418-f1f2-4e22-9dac-153b81dce73c"
      },
      "source": [
        "thislist = [\"apple\", \"banana\", \"cherry\", [55, 56],\"apple\"]\n",
        "thislist.remove(\"apple\")\n",
        "print(thislist)"
      ],
      "execution_count": null,
      "outputs": [
        {
          "output_type": "stream",
          "name": "stdout",
          "text": [
            "['banana', 'cherry', [55, 56], 'apple']\n"
          ]
        }
      ]
    },
    {
      "cell_type": "code",
      "metadata": {
        "id": "6riNKik0ckzj",
        "colab": {
          "base_uri": "https://localhost:8080/"
        },
        "outputId": "f855c296-07ff-4455-c354-b1398bb409d3"
      },
      "source": [
        "thislist.clear()\n",
        "print(thislist)"
      ],
      "execution_count": null,
      "outputs": [
        {
          "output_type": "stream",
          "name": "stdout",
          "text": [
            "[]\n"
          ]
        }
      ]
    },
    {
      "cell_type": "code",
      "metadata": {
        "id": "q0JAngWNdLNy",
        "colab": {
          "base_uri": "https://localhost:8080/"
        },
        "outputId": "c5762a94-b960-4b32-93ce-e4bdd130661c"
      },
      "source": [
        "#list slicing\n",
        "a = [1,2,4,6,7,8,10]\n",
        "print(a[0:3]) # starts from 0, ends at n-1\n",
        "print(a[-1])\n",
        "print(a[1:])\n",
        "print(a[:3])\n",
        "print(len(a))\n",
        "print(a[0:-1])"
      ],
      "execution_count": null,
      "outputs": [
        {
          "output_type": "stream",
          "name": "stdout",
          "text": [
            "[1, 2, 4]\n",
            "10\n",
            "[2, 4, 6, 7, 8, 10]\n",
            "[1, 2, 4]\n",
            "7\n",
            "[1, 2, 4, 6, 7, 8]\n"
          ]
        }
      ]
    },
    {
      "cell_type": "code",
      "metadata": {
        "id": "UGU1MFaDdsvM",
        "colab": {
          "base_uri": "https://localhost:8080/"
        },
        "outputId": "dac78c49-d0f3-4b76-a034-a953311cd04f"
      },
      "source": [
        "print(\"a[0:3]-> \",a[0:3])\n",
        "print(\"a[4:] ->\",a[4:])\n",
        "b = a[0:3] + a[4:] # concatenate\n",
        "print(\"b-> \",b)"
      ],
      "execution_count": null,
      "outputs": [
        {
          "output_type": "stream",
          "name": "stdout",
          "text": [
            "a[0:3]->  [1, 2, 4]\n",
            "a[4:] -> [7, 8, 10]\n",
            "b->  [1, 2, 4, 7, 8, 10]\n"
          ]
        }
      ]
    },
    {
      "cell_type": "code",
      "metadata": {
        "id": "40NsdWEsnrjI",
        "colab": {
          "base_uri": "https://localhost:8080/"
        },
        "outputId": "cb6c736b-e62e-413d-dbdd-c0343b6a60fd"
      },
      "source": [
        "str1 = \"Sakib\"\n",
        "str2 = \"Asad\"\n",
        "strr = str1 + \" \" + str2\n",
        "strrr = str1 + str2\n",
        "print(strr)\n",
        "print(strrr)"
      ],
      "execution_count": null,
      "outputs": [
        {
          "output_type": "stream",
          "name": "stdout",
          "text": [
            "Sakib Asad\n",
            "SakibAsad\n"
          ]
        }
      ]
    },
    {
      "cell_type": "code",
      "metadata": {
        "id": "YktQyui5aHih",
        "colab": {
          "base_uri": "https://localhost:8080/"
        },
        "outputId": "c86af1b6-585c-4dff-8c83-56866f32dca2"
      },
      "source": [
        "# iterating through a list\n",
        "fruits = [\"apple\", 123, \"cherry\"]\n",
        "for i in fruits:\n",
        "  print(i)"
      ],
      "execution_count": null,
      "outputs": [
        {
          "output_type": "stream",
          "name": "stdout",
          "text": [
            "apple\n",
            "123\n",
            "cherry\n"
          ]
        }
      ]
    },
    {
      "cell_type": "code",
      "metadata": {
        "id": "kKaFhkyeVDjG",
        "colab": {
          "base_uri": "https://localhost:8080/"
        },
        "outputId": "95557536-698b-4643-a008-2fab601aff28"
      },
      "source": [
        "for x in \"banana\":\n",
        "  print(x)"
      ],
      "execution_count": null,
      "outputs": [
        {
          "output_type": "stream",
          "name": "stdout",
          "text": [
            "b\n",
            "a\n",
            "n\n",
            "a\n",
            "n\n",
            "a\n"
          ]
        }
      ]
    },
    {
      "cell_type": "code",
      "metadata": {
        "id": "VWJSq-QqWE9M",
        "colab": {
          "base_uri": "https://localhost:8080/"
        },
        "outputId": "7cc7ed8c-3a0c-4ad9-b445-908a22f486cf"
      },
      "source": [
        "fruits = [\"apple\", \"banana\", \"cherry\"]\n",
        "for x in fruits:\n",
        "  print(x)\n",
        "  if x == \"banana\":\n",
        "    break"
      ],
      "execution_count": null,
      "outputs": [
        {
          "output_type": "stream",
          "name": "stdout",
          "text": [
            "apple\n",
            "banana\n"
          ]
        }
      ]
    },
    {
      "cell_type": "code",
      "metadata": {
        "id": "ms1I2rhJWPIH",
        "colab": {
          "base_uri": "https://localhost:8080/"
        },
        "outputId": "a520395b-481a-4052-fb43-85ea74c56128"
      },
      "source": [
        "for x in range(6):\n",
        "  print(x)"
      ],
      "execution_count": null,
      "outputs": [
        {
          "output_type": "stream",
          "name": "stdout",
          "text": [
            "0\n",
            "1\n",
            "2\n",
            "3\n",
            "4\n",
            "5\n"
          ]
        }
      ]
    },
    {
      "cell_type": "code",
      "metadata": {
        "id": "Rv4C4yqXWVRY",
        "colab": {
          "base_uri": "https://localhost:8080/"
        },
        "outputId": "349ce0b9-f24a-4e66-96c4-a9e2a0474602"
      },
      "source": [
        "for x in range(2, 6):\n",
        "  print(x)"
      ],
      "execution_count": null,
      "outputs": [
        {
          "output_type": "stream",
          "name": "stdout",
          "text": [
            "2\n",
            "3\n",
            "4\n",
            "5\n"
          ]
        }
      ]
    },
    {
      "cell_type": "code",
      "metadata": {
        "id": "7DajhKYmWZQw",
        "colab": {
          "base_uri": "https://localhost:8080/"
        },
        "outputId": "89f0830a-3ff0-46e2-e59b-a8f0f1caa26e"
      },
      "source": [
        "for x in range(2, 30, 3):  #start, end, step_size\n",
        "  print(x)"
      ],
      "execution_count": null,
      "outputs": [
        {
          "output_type": "stream",
          "name": "stdout",
          "text": [
            "2\n",
            "5\n",
            "8\n",
            "11\n",
            "14\n",
            "17\n",
            "20\n",
            "23\n",
            "26\n",
            "29\n"
          ]
        }
      ]
    },
    {
      "cell_type": "code",
      "metadata": {
        "id": "3CnwrWr9Wh65",
        "colab": {
          "base_uri": "https://localhost:8080/"
        },
        "outputId": "fbaca6fc-e7d4-4640-d758-9aaacb48a1dc"
      },
      "source": [
        "# Dictionary\n",
        "thisdict =\t{\n",
        "  \"brand\": \"Ford\",\n",
        "  \"model\": \"Mustang\",\n",
        "  \"year\": 1964\n",
        "}\n",
        "print(thisdict)\n",
        "# (key, value)"
      ],
      "execution_count": null,
      "outputs": [
        {
          "output_type": "stream",
          "name": "stdout",
          "text": [
            "{'brand': 'Ford', 'model': 'Mustang', 'year': 1964}\n"
          ]
        }
      ]
    },
    {
      "cell_type": "code",
      "metadata": {
        "id": "FB9ef-ClZnui",
        "colab": {
          "base_uri": "https://localhost:8080/"
        },
        "outputId": "6fd8e231-0cfa-49db-a3d3-42364e481e1e"
      },
      "source": [
        "x = list(thisdict.keys())\n",
        "print(x)"
      ],
      "execution_count": null,
      "outputs": [
        {
          "output_type": "stream",
          "name": "stdout",
          "text": [
            "['brand', 'model', 'year']\n"
          ]
        }
      ]
    },
    {
      "cell_type": "code",
      "metadata": {
        "id": "YhPUT1AgZGoZ",
        "colab": {
          "base_uri": "https://localhost:8080/"
        },
        "outputId": "2045d6d5-db9a-410c-e380-0001a4fa9350"
      },
      "source": [
        "for x in thisdict:  #printing all key names\n",
        "  print(x)"
      ],
      "execution_count": null,
      "outputs": [
        {
          "output_type": "stream",
          "name": "stdout",
          "text": [
            "brand\n",
            "model\n",
            "year\n"
          ]
        }
      ]
    },
    {
      "cell_type": "code",
      "metadata": {
        "id": "ikeX-bSQZesp",
        "colab": {
          "base_uri": "https://localhost:8080/"
        },
        "outputId": "afe44016-8fd5-4b89-8cab-2f9ea019935e"
      },
      "source": [
        "for x in thisdict: #print all values\n",
        "  print(thisdict[x])"
      ],
      "execution_count": null,
      "outputs": [
        {
          "output_type": "stream",
          "name": "stdout",
          "text": [
            "Ford\n",
            "Mustang\n",
            "1964\n"
          ]
        }
      ]
    },
    {
      "cell_type": "code",
      "metadata": {
        "id": "TIoFQknRZvmG",
        "colab": {
          "base_uri": "https://localhost:8080/"
        },
        "outputId": "7243e43c-bc71-41fd-dec6-d6b7f445f48c"
      },
      "source": [
        "print(len(thisdict))"
      ],
      "execution_count": null,
      "outputs": [
        {
          "output_type": "stream",
          "name": "stdout",
          "text": [
            "3\n"
          ]
        }
      ]
    },
    {
      "cell_type": "code",
      "metadata": {
        "id": "VvJVwlWXZxUo",
        "colab": {
          "base_uri": "https://localhost:8080/"
        },
        "outputId": "66fe35be-c44c-46b7-c46b-81618fc41924"
      },
      "source": [
        "thisdict =\t{\n",
        "  \"brand\": \"Ford\",\n",
        "  \"model\": \"Mustang\",\n",
        "  \"year\": 1964\n",
        "}\n",
        "thisdict[\"color\"] = ['red','orange']\n",
        "thisdict[\"brand\"] = \"Mustang\"\n",
        "print(thisdict)"
      ],
      "execution_count": null,
      "outputs": [
        {
          "output_type": "stream",
          "name": "stdout",
          "text": [
            "{'brand': 'Mustang', 'model': 'Mustang', 'year': 1964, 'color': ['red', 'orange']}\n"
          ]
        }
      ]
    },
    {
      "cell_type": "code",
      "metadata": {
        "id": "O_9-CKNLqhXx",
        "colab": {
          "base_uri": "https://localhost:8080/"
        },
        "outputId": "844b247f-1cdd-48db-a212-c681b5235231"
      },
      "source": [
        "val_list = []\n",
        "for x in thisdict:\n",
        "  val_list.append(thisdict[x])\n",
        "print(val_list)"
      ],
      "execution_count": null,
      "outputs": [
        {
          "output_type": "stream",
          "name": "stdout",
          "text": [
            "['Mustang', 'Mustang', 1964, ['red', 'orange']]\n"
          ]
        }
      ]
    },
    {
      "cell_type": "code",
      "metadata": {
        "id": "tSNrEMNgeThp",
        "colab": {
          "base_uri": "https://localhost:8080/"
        },
        "outputId": "735a2c5a-7ce2-49da-a92c-98889b757d12"
      },
      "source": [
        "#Python function\n",
        "def sign(x):\n",
        "  if x > 0:\n",
        "      return 'positive'\n",
        "  elif x < 0:\n",
        "      return 'negative'\n",
        "  else:\n",
        "      return 'zero'\n",
        "\n",
        "for x in [-1, 0, 1]:\n",
        "  print(sign(x))"
      ],
      "execution_count": null,
      "outputs": [
        {
          "output_type": "stream",
          "name": "stdout",
          "text": [
            "negative\n",
            "zero\n",
            "positive\n"
          ]
        }
      ]
    },
    {
      "cell_type": "code",
      "metadata": {
        "id": "j0dwhXy389l7",
        "colab": {
          "base_uri": "https://localhost:8080/"
        },
        "outputId": "8e40c82c-ec6b-4e37-8e3d-af9efab3008d"
      },
      "source": [
        "def test(arr):\n",
        "  return (arr + arr)\n",
        "\n",
        "print(test([1,2,4,6,7]))"
      ],
      "execution_count": null,
      "outputs": [
        {
          "output_type": "stream",
          "name": "stdout",
          "text": [
            "[1, 2, 4, 6, 7, 1, 2, 4, 6, 7]\n"
          ]
        }
      ]
    },
    {
      "cell_type": "code",
      "metadata": {
        "id": "xpZPaish72J2",
        "colab": {
          "base_uri": "https://localhost:8080/"
        },
        "outputId": "aae8c82b-d030-4ef5-ea2e-50de8ab899a0"
      },
      "source": [
        "# you have ultimate freedom\n",
        "def minmax(arr):\n",
        "  return min(arr), max(arr)\n",
        "\n",
        "listt = [1, 0, 9, 8, -1]\n",
        "min_, max_ = minmax(listt)\n",
        "print(f'min: {min_}, max: {max_}')"
      ],
      "execution_count": null,
      "outputs": [
        {
          "output_type": "stream",
          "name": "stdout",
          "text": [
            "min: -1, max: 9\n"
          ]
        }
      ]
    },
    {
      "cell_type": "code",
      "metadata": {
        "id": "gJ5qOgRyt-rH",
        "colab": {
          "base_uri": "https://localhost:8080/"
        },
        "outputId": "5d4b2950-fbc1-44b9-f52e-ca00152b46f7"
      },
      "source": [
        "listt = [\n",
        "         [1,2,4],\n",
        "         [3,4],\n",
        "         [1,5,6,8]\n",
        "]\n",
        "print(listt)"
      ],
      "execution_count": null,
      "outputs": [
        {
          "output_type": "stream",
          "name": "stdout",
          "text": [
            "[[1, 2, 4], [3, 4], [1, 5, 6, 8]]\n"
          ]
        }
      ]
    },
    {
      "cell_type": "code",
      "metadata": {
        "id": "88V_wBHmgGvv",
        "colab": {
          "base_uri": "https://localhost:8080/"
        },
        "outputId": "fb85e64c-cdbd-4478-bfba-99258916acf8"
      },
      "source": [
        "# numpy tutorial - http://cs231n.github.io/python-numpy-tutorial/#numpy-arrays\n",
        "# you can follow this link for the basics of numpy\n",
        "\n",
        "# numpy uses the facility of GPU. So, try to use it instead of for loop\n",
        "\n",
        "import numpy as np\n",
        "\n",
        "a = np.array([1, 2, 3])   # Create a rank 1 array\n",
        "print(type(a))            # Prints \"<class 'numpy.ndarray'>\"\n",
        "print(a.shape)            # Prints \"(3,)\"\n",
        "print(a[0], a[1], a[2])   # Prints \"1 2 3\"\n",
        "a[0] = 5                  # Change an element of the array\n",
        "print(a)\n",
        "\n"
      ],
      "execution_count": null,
      "outputs": [
        {
          "output_type": "stream",
          "name": "stdout",
          "text": [
            "<class 'numpy.ndarray'>\n",
            "(3,)\n",
            "1 2 3\n",
            "[5 2 3]\n"
          ]
        }
      ]
    },
    {
      "cell_type": "code",
      "metadata": {
        "id": "zZ9ph08NidE8",
        "colab": {
          "base_uri": "https://localhost:8080/"
        },
        "outputId": "c247d1af-629d-4840-9d99-1ba8d233f9d8"
      },
      "source": [
        "# conversion\n",
        "import numpy as np\n",
        "a = [[1,2,3],[4,5,6]]\n",
        "print(type(a))\n",
        "print(a)\n",
        "\n",
        "a= np.array(a)\n",
        "print(type(a))\n",
        "print(a)\n",
        "\n",
        "a= a.tolist()\n",
        "print(a)\n",
        "print(type(a))"
      ],
      "execution_count": null,
      "outputs": [
        {
          "output_type": "stream",
          "name": "stdout",
          "text": [
            "<class 'list'>\n",
            "[[1, 2, 3], [4, 5, 6]]\n",
            "<class 'numpy.ndarray'>\n",
            "[[1 2 3]\n",
            " [4 5 6]]\n",
            "[[1, 2, 3], [4, 5, 6]]\n",
            "<class 'list'>\n"
          ]
        }
      ]
    },
    {
      "cell_type": "code",
      "metadata": {
        "id": "5aCnt9odiwXE",
        "colab": {
          "base_uri": "https://localhost:8080/"
        },
        "outputId": "9baec3ec-5130-4881-d898-aee31cb05e71"
      },
      "source": [
        "b = np.array([[1,2,3],[4,5,6]])    # Create a rank 2 array\n",
        "print(b.shape)                     # Prints \"(2, 3)\"\n",
        "print(b[0][0], b[0, 1], b[1, 0])   # Prints \"1 2 4\""
      ],
      "execution_count": null,
      "outputs": [
        {
          "output_type": "stream",
          "name": "stdout",
          "text": [
            "(2, 3)\n",
            "1 2 4\n"
          ]
        }
      ]
    },
    {
      "cell_type": "code",
      "metadata": {
        "id": "2W5ndopqmD7a",
        "colab": {
          "base_uri": "https://localhost:8080/"
        },
        "outputId": "4be9c5bd-b9b1-45b6-c5f9-9d0f8e7d8c0f"
      },
      "source": [
        "e = np.random.random((2,2))  # Create an array filled with random values\n",
        "print(e)"
      ],
      "execution_count": null,
      "outputs": [
        {
          "output_type": "stream",
          "name": "stdout",
          "text": [
            "[[0.98850082 0.96367111]\n",
            " [0.49007626 0.81044509]]\n"
          ]
        }
      ]
    },
    {
      "cell_type": "code",
      "metadata": {
        "id": "j5mA6_i7mYJN",
        "colab": {
          "base_uri": "https://localhost:8080/"
        },
        "outputId": "3a4eb67c-2480-4342-9585-fc62791e37dd"
      },
      "source": [
        "a = np.array([\n",
        "              [1, 2, 3, 4],\n",
        "              [5, 6, 7, 8],\n",
        "              [9, 0, 1, 2]\n",
        "              ])\n",
        "row_r2 = a[1:3,:]  # Rank 2 view of the second row of a\n",
        "print(row_r2)\n"
      ],
      "execution_count": null,
      "outputs": [
        {
          "output_type": "stream",
          "name": "stdout",
          "text": [
            "[[5 6 7 8]\n",
            " [9 0 1 2]]\n"
          ]
        }
      ]
    },
    {
      "cell_type": "code",
      "source": [
        "A = [[1, 2],[3,4]]\n",
        "B = [[5, 6],[7,8]]\n",
        "print(np.dot(A,B))\n",
        "print(np.matmul(A,B))"
      ],
      "metadata": {
        "colab": {
          "base_uri": "https://localhost:8080/"
        },
        "id": "fEReVQqdlukY",
        "outputId": "e21ab941-0ed7-4e7e-e84b-d875c5022521"
      },
      "execution_count": null,
      "outputs": [
        {
          "output_type": "stream",
          "name": "stdout",
          "text": [
            "[[19 22]\n",
            " [43 50]]\n",
            "[[19 22]\n",
            " [43 50]]\n"
          ]
        }
      ]
    },
    {
      "cell_type": "code",
      "metadata": {
        "id": "VNGWHKXXo29z",
        "colab": {
          "base_uri": "https://localhost:8080/"
        },
        "outputId": "02f4fb26-bc31-41d8-d8c8-06f71f55672d"
      },
      "source": [
        "# you can explicitly specify data type\n",
        "x = np.array([[1,2],[3,4]], dtype=np.float64)\n",
        "y = np.array([[5,6],[7,8]], dtype=np.float64)\n",
        "print(x)"
      ],
      "execution_count": null,
      "outputs": [
        {
          "output_type": "stream",
          "name": "stdout",
          "text": [
            "[[1. 2.]\n",
            " [3. 4.]]\n"
          ]
        }
      ]
    },
    {
      "cell_type": "code",
      "metadata": {
        "id": "6Y7TIYIBpA1N",
        "colab": {
          "base_uri": "https://localhost:8080/"
        },
        "outputId": "2df1fa61-6093-4962-a5bf-0661ef783dc9"
      },
      "source": [
        "print(x + y)\n",
        "print(np.add(x, y))\n",
        "# O(1)"
      ],
      "execution_count": null,
      "outputs": [
        {
          "output_type": "stream",
          "name": "stdout",
          "text": [
            "[[ 6.  8.]\n",
            " [10. 12.]]\n",
            "[[ 6.  8.]\n",
            " [10. 12.]]\n"
          ]
        }
      ]
    },
    {
      "cell_type": "code",
      "metadata": {
        "id": "gbpOpr_lpN0i",
        "colab": {
          "base_uri": "https://localhost:8080/"
        },
        "outputId": "7cefff5e-1e67-4388-ccfd-21b31dc00fc9"
      },
      "source": [
        "z= x/y\n",
        "print(z)\n",
        "z = x*y"
      ],
      "execution_count": null,
      "outputs": [
        {
          "output_type": "stream",
          "name": "stdout",
          "text": [
            "[[0.2        0.33333333]\n",
            " [0.42857143 0.5       ]]\n"
          ]
        }
      ]
    },
    {
      "cell_type": "code",
      "metadata": {
        "id": "_35xtm7jpPUJ",
        "colab": {
          "base_uri": "https://localhost:8080/"
        },
        "outputId": "506fbc27-7d40-466c-e194-da7cc8798582"
      },
      "source": [
        "print(np.sqrt(x))"
      ],
      "execution_count": null,
      "outputs": [
        {
          "output_type": "stream",
          "name": "stdout",
          "text": [
            "[[1.         1.41421356]\n",
            " [1.73205081 2.        ]]\n"
          ]
        }
      ]
    },
    {
      "cell_type": "code",
      "metadata": {
        "id": "O6A1inFWpXCg",
        "colab": {
          "base_uri": "https://localhost:8080/"
        },
        "outputId": "a8c21079-ce63-4720-d73a-49e0d248feb8"
      },
      "source": [
        "x = np.array([[1,2],[3,4]])\n",
        "y = np.array([[5,6,1],[7,8,2]])\n",
        "\n",
        "print(x.dot(y))\n",
        "print(np.dot(x, y))\n",
        "\n",
        "# https://www.mathsisfun.com/algebra/matrix-multiplying.html  -> matrix dot product"
      ],
      "execution_count": null,
      "outputs": [
        {
          "output_type": "stream",
          "name": "stdout",
          "text": [
            "[[19 22  5]\n",
            " [43 50 11]]\n",
            "[[19 22  5]\n",
            " [43 50 11]]\n"
          ]
        }
      ]
    },
    {
      "cell_type": "code",
      "metadata": {
        "id": "KAoGKv5tqHeJ",
        "colab": {
          "base_uri": "https://localhost:8080/"
        },
        "outputId": "48068613-3d60-4125-dec0-30bd1311e244"
      },
      "source": [
        "x = np.array([\n",
        "              [1,2,5],\n",
        "              [3,4,1]\n",
        "              ])\n",
        "\n",
        "print(np.sum(x))  # Compute sum of all elements; prints \"10\"\n",
        "print(np.sum(x, axis=0))  # Compute sum of each column; prints \"[4 6 6]\"\n",
        "print(np.sum(x, axis=1))  # Compute sum of each row; prints \"[8 8]\""
      ],
      "execution_count": null,
      "outputs": [
        {
          "output_type": "stream",
          "name": "stdout",
          "text": [
            "16\n",
            "[4 6 6]\n",
            "[8 8]\n"
          ]
        }
      ]
    },
    {
      "cell_type": "code",
      "metadata": {
        "id": "mHpYpd9Bqc85",
        "colab": {
          "base_uri": "https://localhost:8080/"
        },
        "outputId": "16419aab-9a4c-489f-958c-010349ed04b9"
      },
      "source": [
        "x = np.array([[1,2], [3,4]])\n",
        "print(x)    # Prints \"[[1 2]\n",
        "            #          [3 4]]\"\n",
        "print(x.T)  # Prints \"[[1 3]\n",
        "            #          [2 4]]\""
      ],
      "execution_count": null,
      "outputs": [
        {
          "output_type": "stream",
          "name": "stdout",
          "text": [
            "[[1 2]\n",
            " [3 4]]\n",
            "[[1 3]\n",
            " [2 4]]\n"
          ]
        }
      ]
    },
    {
      "cell_type": "code",
      "metadata": {
        "id": "zZbKfPKdPGzM",
        "colab": {
          "base_uri": "https://localhost:8080/"
        },
        "outputId": "c9e91865-c12b-400b-b147-4c8e6688e7f2"
      },
      "source": [
        "mylist=[1,2,3]\n",
        "#When you assign a list to another list, then you assign by reference, not by value\n",
        "#This is a very important point to note\n",
        "#urlist = mylist # copy by reference\n",
        "urlist = mylist.copy() # copy by value\n",
        "mylist.append(4)\n",
        "print(mylist)\n",
        "print(urlist)\n",
        "\n",
        "urlist.remove(1)\n",
        "print(mylist)\n",
        "print(urlist)"
      ],
      "execution_count": null,
      "outputs": [
        {
          "output_type": "stream",
          "name": "stdout",
          "text": [
            "[1, 2, 3, 4]\n",
            "[1, 2, 3]\n",
            "[1, 2, 3, 4]\n",
            "[2, 3]\n"
          ]
        }
      ]
    },
    {
      "cell_type": "code",
      "source": [
        "mylist=[1,2,3]\n",
        "#When you assign a list to another list, then you assign by reference, not by value\n",
        "#This is a very important point to note\n",
        "urlist = mylist # copy by reference\n",
        "#urlist = mylist.copy() # copy by value\n",
        "mylist.append(4)\n",
        "print(mylist)\n",
        "print(urlist)\n",
        "\n",
        "urlist.remove(1)\n",
        "print(mylist)\n",
        "print(urlist)"
      ],
      "metadata": {
        "colab": {
          "base_uri": "https://localhost:8080/"
        },
        "id": "-1kRIdtXoDII",
        "outputId": "5288bed6-ba66-407c-973a-846536ca80b7"
      },
      "execution_count": null,
      "outputs": [
        {
          "output_type": "stream",
          "name": "stdout",
          "text": [
            "[1, 2, 3, 4]\n",
            "[1, 2, 3, 4]\n",
            "[2, 3, 4]\n",
            "[2, 3, 4]\n"
          ]
        }
      ]
    },
    {
      "cell_type": "code",
      "metadata": {
        "id": "s13bWrhWqu_u",
        "colab": {
          "base_uri": "https://localhost:8080/",
          "height": 430
        },
        "outputId": "802ce721-ec57-4419-a154-ace4d9420dba"
      },
      "source": [
        "#Matplotlib\n",
        "\n",
        "import numpy as np\n",
        "import matplotlib.pyplot as plt\n",
        "import math\n",
        "\n",
        "# Compute the x and y coordinates for points on a sine curve\n",
        "x = np.arange(0, 3 * np.pi, 0.1) # [0, 0.1, 0.2, 0.3, ... 3*3.1416]\n",
        "#y = np.sin(x)  #uncomment this and see the magic\n",
        "y = 2*x\n",
        "\n",
        "# Plot the points using matplotlib\n",
        "plt.plot(x, y)\n",
        "plt.show()  # You must call plt.show() to make graphics appear"
      ],
      "execution_count": null,
      "outputs": [
        {
          "output_type": "display_data",
          "data": {
            "text/plain": [
              "<Figure size 640x480 with 1 Axes>"
            ],
            "image/png": "[encoded data removed]"
          },
          "metadata": {}
        }
      ]
    },
    {
      "cell_type": "code",
      "source": [
        "#Matplotlib\n",
        "\n",
        "import numpy as np\n",
        "import matplotlib.pyplot as plt\n",
        "import math\n",
        "\n",
        "# Compute the x and y coordinates for points on a sine curve\n",
        "x = np.arange(0, 3 * np.pi, 0.1) # [0, 0.1, 0.2, 0.3, ... 3*3.1416]\n",
        "y = np.sin(x)  #uncomment this and see the magic\n",
        "#y = 2*x\n",
        "\n",
        "# Plot the points using matplotlib\n",
        "plt.plot(x, y)\n",
        "plt.show()  # You must call plt.show() to make graphics appear"
      ],
      "metadata": {
        "colab": {
          "base_uri": "https://localhost:8080/",
          "height": 430
        },
        "id": "r85wufakou9z",
        "outputId": "7a7952d4-8ea7-42a9-a5b9-6f46a38e245b"
      },
      "execution_count": null,
      "outputs": [
        {
          "output_type": "display_data",
          "data": {
            "text/plain": [
              "<Figure size 640x480 with 1 Axes>"
            ],
            "image/png": "[encoded data removed]"
          },
          "metadata": {}
        }
      ]
    },
    {
      "cell_type": "markdown",
      "metadata": {
        "id": "479KFVIaJmRS"
      },
      "source": [
        "**PYTHON OOP**"
      ]
    },
    {
      "cell_type": "code",
      "metadata": {
        "id": "G6MCv2aqJqBB",
        "colab": {
          "base_uri": "https://localhost:8080/"
        },
        "outputId": "44508d3e-59a5-405f-870a-2252d68e6cc9"
      },
      "source": [
        "class Employee:\n",
        "  emp_num = 0 # works like static variable common to all objects of a class\n",
        "\n",
        "  def __init__(self, first, last, pay):\n",
        "    self.first = first\n",
        "    self.last = last\n",
        "    self.email = first + '.' + last + '@email.com'\n",
        "    self.pay = pay\n",
        "    Employee.emp_num += 1\n",
        "\n",
        "\n",
        "  def fullname(self):\n",
        "    return f'{self.first} {self.last}'\n",
        "\n",
        "  def applyRaise(self, raise_):\n",
        "    self.pay = int(self.pay * raise_)\n",
        "\n",
        "  def __str__(self):\n",
        "    return f'{self.fullname()} - {self.email}'\n",
        "\n",
        "  @staticmethod # (Decorator) same working procedure for all objects of a class\n",
        "  def is_holiday(day):\n",
        "    holidays = [1, 30, 49, 350]\n",
        "    if day in holidays:\n",
        "        return True\n",
        "    else:\n",
        "      return False\n",
        "\n",
        "\n",
        "print(Employee.emp_num)\n",
        "\n",
        "emp_1 = Employee('Corey', 'Schafer', 50000)\n",
        "emp_2 = Employee('Test', 'Employee', 60000)\n",
        "\n",
        "\n",
        "print(Employee.emp_num)\n",
        "\n",
        "print(emp_1.fullname())\n",
        "\n",
        "emp_1.applyRaise(1.05)\n",
        "print(emp_1.pay)\n",
        "\n",
        "print(Employee.is_holiday(30))\n",
        "print(Employee.is_holiday(31))\n",
        "\n",
        "print(emp_1)"
      ],
      "execution_count": null,
      "outputs": [
        {
          "output_type": "stream",
          "name": "stdout",
          "text": [
            "0\n",
            "2\n",
            "Corey Schafer\n",
            "52500\n",
            "True\n",
            "False\n",
            "Corey Schafer - Corey.Schafer@email.com\n"
          ]
        }
      ]
    },
    {
      "cell_type": "code",
      "metadata": {
        "id": "evPrfINXY221",
        "colab": {
          "base_uri": "https://localhost:8080/"
        },
        "outputId": "7583c7d7-16ab-4e82-c29e-be4476aef611"
      },
      "source": [
        "class Employee:\n",
        "  emp_num = 0\n",
        "  def __init__(self, first, last, pay):\n",
        "    self.first = first\n",
        "    self.last = last\n",
        "    self.email = first + '.' + last + '@email.com'\n",
        "    self.pay = pay\n",
        "    Employee.emp_num += 1\n",
        "\n",
        "  def fullname(self):\n",
        "    return f'{self.first} {self.last}'\n",
        "\n",
        "  def applyRaise(self,raise_):\n",
        "    self.pay = int(self.pay * raise_)\n",
        "\n",
        "\n",
        "class Developer(Employee):\n",
        "    def __init__(self, first, last, pay, prog_lang):\n",
        "        super().__init__(first, last, pay)\n",
        "        self.prog_lang = prog_lang\n",
        "\n",
        "\n",
        "class Manager(Employee):\n",
        "  def __init__(self, first, last, pay, employees=None):\n",
        "      super().__init__(first, last, pay)\n",
        "      if employees is None:\n",
        "          self.employees = []\n",
        "      else:\n",
        "          self.employees = employees\n",
        "\n",
        "  def add_emp(self, emp):\n",
        "      if emp not in self.employees:\n",
        "          self.employees.append(emp)\n",
        "\n",
        "  def remove_emp(self, emp):\n",
        "      if emp in self.employees:\n",
        "          self.employees.remove(emp)\n",
        "\n",
        "  def print_emps(self):\n",
        "      for emp in self.employees:\n",
        "          print('-->', emp.fullname())\n",
        "\n",
        "dev_1 = Developer('Corey', 'Schafer', 50000, 'Python')\n",
        "dev_2 = Developer('Test', 'Employee', 60000, 'Java')\n",
        "\n",
        "mgr_1 = Manager('Sue', 'Smith', 90000, [dev_1])\n",
        "print(mgr_1.email)\n",
        "mgr_1.print_emps()\n",
        "\n",
        "mgr_1.add_emp(dev_2)\n",
        "mgr_1.print_emps()\n",
        "print()\n",
        "\n",
        "mgr_1.remove_emp(dev_2)\n",
        "mgr_1.print_emps()\n",
        "print()\n",
        "\n",
        "print(isinstance(mgr_1, Manager))  # Is mgr_1 an instance of Manager?\n",
        "print(isinstance(mgr_1, Employee))\n",
        "print(isinstance(mgr_1, Developer))\n",
        "print()\n",
        "\n",
        "print(issubclass(Developer, Employee)) # Is Developer class a subclass of Employee class??"
      ],
      "execution_count": null,
      "outputs": [
        {
          "output_type": "stream",
          "name": "stdout",
          "text": [
            "Sue.Smith@email.com\n",
            "--> Corey Schafer\n",
            "--> Corey Schafer\n",
            "--> Test Employee\n",
            "\n",
            "--> Corey Schafer\n",
            "\n",
            "True\n",
            "True\n",
            "False\n",
            "\n",
            "True\n"
          ]
        }
      ]
    }
  ]
}